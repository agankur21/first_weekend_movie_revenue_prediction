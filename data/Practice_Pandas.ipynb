{
 "cells": [
  {
   "cell_type": "code",
   "execution_count": 2,
   "metadata": {
    "collapsed": true
   },
   "outputs": [],
   "source": [
    "import pandas as pd"
   ]
  },
  {
   "cell_type": "code",
   "execution_count": 50,
   "metadata": {
    "collapsed": true
   },
   "outputs": [],
   "source": [
    "file_details = pd.read_csv(\"movie_title_details_wiki_filtered.txt\",sep=\"\\t\")"
   ]
  },
  {
   "cell_type": "code",
   "execution_count": 51,
   "metadata": {
    "collapsed": false
   },
   "outputs": [
    {
     "data": {
      "text/html": [
       "<div>\n",
       "<table border=\"1\" class=\"dataframe\">\n",
       "  <thead>\n",
       "    <tr style=\"text-align: right;\">\n",
       "      <th></th>\n",
       "      <th>title</th>\n",
       "      <th>year</th>\n",
       "      <th>type</th>\n",
       "      <th>details_json</th>\n",
       "      <th>page_view_data</th>\n",
       "    </tr>\n",
       "  </thead>\n",
       "  <tbody>\n",
       "    <tr>\n",
       "      <th>0</th>\n",
       "      <td>Yosemite</td>\n",
       "      <td>2016</td>\n",
       "      <td>Test</td>\n",
       "      <td>{\"Title\":\"Yosemite\",\"Year\":\"2015\",\"Rated\":\"R\",...</td>\n",
       "      <td>2016-01-01:47,2016-01-02:53,2016-01-03:60,2016...</td>\n",
       "    </tr>\n",
       "    <tr>\n",
       "      <th>1</th>\n",
       "      <td>The Wait</td>\n",
       "      <td>2014</td>\n",
       "      <td>Test</td>\n",
       "      <td>{\"Title\":\"The Wait\",\"Year\":\"2014\",\"Rated\":\"N/A...</td>\n",
       "      <td>2014-03-01:47,2014-03-02:34,2014-03-03:13,2014...</td>\n",
       "    </tr>\n",
       "    <tr>\n",
       "      <th>2</th>\n",
       "      <td>In Bloom</td>\n",
       "      <td>2014</td>\n",
       "      <td>Test</td>\n",
       "      <td>{\"Title\":\"Rose in bloom\",\"Year\":\"2014\",\"Rated\"...</td>\n",
       "      <td>2014-09-01:160,2014-09-02:171,2014-09-03:205,2...</td>\n",
       "    </tr>\n",
       "    <tr>\n",
       "      <th>3</th>\n",
       "      <td>The Legend of Hercules</td>\n",
       "      <td>2014</td>\n",
       "      <td>Test</td>\n",
       "      <td>{\"Title\":\"The Legend of Hercules\",\"Year\":\"2014...</td>\n",
       "      <td>2014-01-01:5,2014-01-02:6,2014-01-03:1,2014-01...</td>\n",
       "    </tr>\n",
       "    <tr>\n",
       "      <th>4</th>\n",
       "      <td>The Pirates Who Don't Do Anything</td>\n",
       "      <td>2008</td>\n",
       "      <td>Train</td>\n",
       "      <td>{\"Title\":\"The Pirates Who Don't Do Anything: A...</td>\n",
       "      <td>2008-01-01:139,2008-01-02:610,2008-01-03:471,2...</td>\n",
       "    </tr>\n",
       "  </tbody>\n",
       "</table>\n",
       "</div>"
      ],
      "text/plain": [
       "                               title  year   type  \\\n",
       "0                           Yosemite  2016   Test   \n",
       "1                           The Wait  2014   Test   \n",
       "2                           In Bloom  2014   Test   \n",
       "3             The Legend of Hercules  2014   Test   \n",
       "4  The Pirates Who Don't Do Anything  2008  Train   \n",
       "\n",
       "                                        details_json  \\\n",
       "0  {\"Title\":\"Yosemite\",\"Year\":\"2015\",\"Rated\":\"R\",...   \n",
       "1  {\"Title\":\"The Wait\",\"Year\":\"2014\",\"Rated\":\"N/A...   \n",
       "2  {\"Title\":\"Rose in bloom\",\"Year\":\"2014\",\"Rated\"...   \n",
       "3  {\"Title\":\"The Legend of Hercules\",\"Year\":\"2014...   \n",
       "4  {\"Title\":\"The Pirates Who Don't Do Anything: A...   \n",
       "\n",
       "                                      page_view_data  \n",
       "0  2016-01-01:47,2016-01-02:53,2016-01-03:60,2016...  \n",
       "1  2014-03-01:47,2014-03-02:34,2014-03-03:13,2014...  \n",
       "2  2014-09-01:160,2014-09-02:171,2014-09-03:205,2...  \n",
       "3  2014-01-01:5,2014-01-02:6,2014-01-03:1,2014-01...  \n",
       "4  2008-01-01:139,2008-01-02:610,2008-01-03:471,2...  "
      ]
     },
     "execution_count": 51,
     "metadata": {},
     "output_type": "execute_result"
    }
   ],
   "source": [
    "file_details.head()"
   ]
  },
  {
   "cell_type": "code",
   "execution_count": 52,
   "metadata": {
    "collapsed": false
   },
   "outputs": [
    {
     "data": {
      "text/plain": [
       "title             3830\n",
       "year              3830\n",
       "type              3830\n",
       "details_json      3830\n",
       "page_view_data    3103\n",
       "dtype: int64"
      ]
     },
     "execution_count": 52,
     "metadata": {},
     "output_type": "execute_result"
    }
   ],
   "source": [
    "file_details.count()"
   ]
  },
  {
   "cell_type": "code",
   "execution_count": 53,
   "metadata": {
    "collapsed": false
   },
   "outputs": [
    {
     "data": {
      "text/plain": [
       "title             3103\n",
       "year              3103\n",
       "type              3103\n",
       "details_json      3103\n",
       "page_view_data    3103\n",
       "dtype: int64"
      ]
     },
     "execution_count": 53,
     "metadata": {},
     "output_type": "execute_result"
    }
   ],
   "source": [
    "file_details.dropna().count()"
   ]
  },
  {
   "cell_type": "code",
   "execution_count": 54,
   "metadata": {
    "collapsed": true
   },
   "outputs": [],
   "source": [
    "file_details_complete = file_details.dropna()"
   ]
  },
  {
   "cell_type": "code",
   "execution_count": 56,
   "metadata": {
    "collapsed": true
   },
   "outputs": [],
   "source": [
    "file_revenue = pd.read_csv(\"revenue.csv\")"
   ]
  },
  {
   "cell_type": "code",
   "execution_count": 57,
   "metadata": {
    "collapsed": false
   },
   "outputs": [
    {
     "data": {
      "text/html": [
       "<div>\n",
       "<table border=\"1\" class=\"dataframe\">\n",
       "  <thead>\n",
       "    <tr style=\"text-align: right;\">\n",
       "      <th></th>\n",
       "      <th>title</th>\n",
       "      <th>date</th>\n",
       "      <th>link</th>\n",
       "      <th>weekendRevenue</th>\n",
       "      <th>weekendScreens</th>\n",
       "      <th>firstRevenue</th>\n",
       "      <th>firstScreens</th>\n",
       "      <th>multipleTables</th>\n",
       "    </tr>\n",
       "  </thead>\n",
       "  <tbody>\n",
       "    <tr>\n",
       "      <th>0</th>\n",
       "      <td>Chimes at Midnight (2016 re-release)</td>\n",
       "      <td>1/1/2016</td>\n",
       "      <td>/movies/?id=chimesatmidnight2015.htm</td>\n",
       "      <td>$20,600(Estimate)</td>\n",
       "      <td>2</td>\n",
       "      <td>$6,100</td>\n",
       "      <td>2</td>\n",
       "      <td>False</td>\n",
       "    </tr>\n",
       "    <tr>\n",
       "      <th>1</th>\n",
       "      <td>Ho Mann Jahaan</td>\n",
       "      <td>1/1/2016</td>\n",
       "      <td>/movies/?id=homannjahaan.htm</td>\n",
       "      <td>$77,800</td>\n",
       "      <td>19</td>\n",
       "      <td>-3</td>\n",
       "      <td>-4</td>\n",
       "      <td>False</td>\n",
       "    </tr>\n",
       "    <tr>\n",
       "      <th>2</th>\n",
       "      <td>Yosemite</td>\n",
       "      <td>1/1/2016</td>\n",
       "      <td>/movies/?id=yosemite.htm</td>\n",
       "      <td>$4,500</td>\n",
       "      <td>2</td>\n",
       "      <td>-3</td>\n",
       "      <td>-4</td>\n",
       "      <td>False</td>\n",
       "    </tr>\n",
       "    <tr>\n",
       "      <th>3</th>\n",
       "      <td>Only Yesterday (2016 re-release)</td>\n",
       "      <td>1/1/2016</td>\n",
       "      <td>/movies/?id=onlyyesterday2016.htm</td>\n",
       "      <td>$15,000</td>\n",
       "      <td>1</td>\n",
       "      <td>$6,800</td>\n",
       "      <td>1</td>\n",
       "      <td>False</td>\n",
       "    </tr>\n",
       "    <tr>\n",
       "      <th>4</th>\n",
       "      <td>Return to Nuke 'Em High Volume 1</td>\n",
       "      <td>1/10/2014</td>\n",
       "      <td>/movies/?id=nukeem1.htm</td>\n",
       "      <td>$3,500</td>\n",
       "      <td>1</td>\n",
       "      <td>$1,100</td>\n",
       "      <td>1</td>\n",
       "      <td>False</td>\n",
       "    </tr>\n",
       "    <tr>\n",
       "      <th>5</th>\n",
       "      <td>The Jewish Cardinal</td>\n",
       "      <td>1/10/2014</td>\n",
       "      <td>/movies/?id=jewishcardinal.htm</td>\n",
       "      <td>$3,900</td>\n",
       "      <td>1</td>\n",
       "      <td>-3</td>\n",
       "      <td>-4</td>\n",
       "      <td>False</td>\n",
       "    </tr>\n",
       "    <tr>\n",
       "      <th>6</th>\n",
       "      <td>The Wait</td>\n",
       "      <td>1/10/2014</td>\n",
       "      <td>/movies/?id=wait.htm</td>\n",
       "      <td>$200</td>\n",
       "      <td>1</td>\n",
       "      <td>-3</td>\n",
       "      <td>-4</td>\n",
       "      <td>False</td>\n",
       "    </tr>\n",
       "    <tr>\n",
       "      <th>7</th>\n",
       "      <td>If You Build It</td>\n",
       "      <td>1/10/2014</td>\n",
       "      <td>/movies/?id=ifyoubuildit.htm</td>\n",
       "      <td>$5,400</td>\n",
       "      <td>1</td>\n",
       "      <td>-3</td>\n",
       "      <td>-4</td>\n",
       "      <td>False</td>\n",
       "    </tr>\n",
       "    <tr>\n",
       "      <th>8</th>\n",
       "      <td>The Truth About Emanuel</td>\n",
       "      <td>1/10/2014</td>\n",
       "      <td>/movies/?id=truthaboutemanuel.htm</td>\n",
       "      <td>-1</td>\n",
       "      <td>-2</td>\n",
       "      <td>-3</td>\n",
       "      <td>-4</td>\n",
       "      <td>False</td>\n",
       "    </tr>\n",
       "    <tr>\n",
       "      <th>9</th>\n",
       "      <td>The Rocket (2014)</td>\n",
       "      <td>1/10/2014</td>\n",
       "      <td>/movies/?id=rocket2014.htm</td>\n",
       "      <td>$5,000</td>\n",
       "      <td>2</td>\n",
       "      <td>-3</td>\n",
       "      <td>-4</td>\n",
       "      <td>False</td>\n",
       "    </tr>\n",
       "  </tbody>\n",
       "</table>\n",
       "</div>"
      ],
      "text/plain": [
       "                                  title       date  \\\n",
       "0  Chimes at Midnight (2016 re-release)   1/1/2016   \n",
       "1                        Ho Mann Jahaan   1/1/2016   \n",
       "2                              Yosemite   1/1/2016   \n",
       "3      Only Yesterday (2016 re-release)   1/1/2016   \n",
       "4      Return to Nuke 'Em High Volume 1  1/10/2014   \n",
       "5                   The Jewish Cardinal  1/10/2014   \n",
       "6                              The Wait  1/10/2014   \n",
       "7                       If You Build It  1/10/2014   \n",
       "8               The Truth About Emanuel  1/10/2014   \n",
       "9                     The Rocket (2014)  1/10/2014   \n",
       "\n",
       "                                   link     weekendRevenue weekendScreens  \\\n",
       "0  /movies/?id=chimesatmidnight2015.htm  $20,600(Estimate)              2   \n",
       "1          /movies/?id=homannjahaan.htm            $77,800             19   \n",
       "2              /movies/?id=yosemite.htm             $4,500              2   \n",
       "3     /movies/?id=onlyyesterday2016.htm            $15,000              1   \n",
       "4               /movies/?id=nukeem1.htm             $3,500              1   \n",
       "5        /movies/?id=jewishcardinal.htm             $3,900              1   \n",
       "6                  /movies/?id=wait.htm               $200              1   \n",
       "7          /movies/?id=ifyoubuildit.htm             $5,400              1   \n",
       "8     /movies/?id=truthaboutemanuel.htm                 -1             -2   \n",
       "9            /movies/?id=rocket2014.htm             $5,000              2   \n",
       "\n",
       "  firstRevenue firstScreens multipleTables  \n",
       "0       $6,100            2          False  \n",
       "1           -3           -4          False  \n",
       "2           -3           -4          False  \n",
       "3       $6,800            1          False  \n",
       "4       $1,100            1          False  \n",
       "5           -3           -4          False  \n",
       "6           -3           -4          False  \n",
       "7           -3           -4          False  \n",
       "8           -3           -4          False  \n",
       "9           -3           -4          False  "
      ]
     },
     "execution_count": 57,
     "metadata": {},
     "output_type": "execute_result"
    }
   ],
   "source": [
    "file_revenue.head(10)"
   ]
  },
  {
   "cell_type": "code",
   "execution_count": 79,
   "metadata": {
    "collapsed": false
   },
   "outputs": [],
   "source": [
    "file_revenue_filtered = file_revenue[file_revenue['weekendRevenue'] != '-1']\n",
    "file_revenue_filtered  = file_revenue_filtered [file_revenue_filtered ['weekendRevenue'] != 'n/a']"
   ]
  },
  {
   "cell_type": "code",
   "execution_count": 80,
   "metadata": {
    "collapsed": false
   },
   "outputs": [
    {
     "data": {
      "text/plain": [
       "title             6160\n",
       "date              6160\n",
       "link              6160\n",
       "weekendRevenue    6160\n",
       "weekendScreens    6160\n",
       "firstRevenue      6160\n",
       "firstScreens      6160\n",
       "multipleTables    6160\n",
       "dtype: int64"
      ]
     },
     "execution_count": 80,
     "metadata": {},
     "output_type": "execute_result"
    }
   ],
   "source": [
    "file_revenue_filtered.count()"
   ]
  },
  {
   "cell_type": "code",
   "execution_count": 81,
   "metadata": {
    "collapsed": true
   },
   "outputs": [],
   "source": [
    "merged_table = pd.merge(file_revenue_filtered,file_details_complete,how='inner',on='title')"
   ]
  },
  {
   "cell_type": "code",
   "execution_count": 82,
   "metadata": {
    "collapsed": false
   },
   "outputs": [
    {
     "data": {
      "text/plain": [
       "title             2893\n",
       "date              2893\n",
       "link              2893\n",
       "weekendRevenue    2893\n",
       "weekendScreens    2893\n",
       "firstRevenue      2893\n",
       "firstScreens      2893\n",
       "multipleTables    2893\n",
       "year              2893\n",
       "type              2893\n",
       "details_json      2893\n",
       "page_view_data    2893\n",
       "dtype: int64"
      ]
     },
     "execution_count": 82,
     "metadata": {},
     "output_type": "execute_result"
    }
   ],
   "source": [
    "merged_table.count()"
   ]
  },
  {
   "cell_type": "code",
   "execution_count": 85,
   "metadata": {
    "collapsed": false
   },
   "outputs": [
    {
     "data": {
      "text/html": [
       "<div>\n",
       "<table border=\"1\" class=\"dataframe\">\n",
       "  <thead>\n",
       "    <tr style=\"text-align: right;\">\n",
       "      <th></th>\n",
       "      <th>title</th>\n",
       "      <th>date</th>\n",
       "      <th>link</th>\n",
       "      <th>weekendRevenue</th>\n",
       "      <th>weekendScreens</th>\n",
       "      <th>firstRevenue</th>\n",
       "      <th>firstScreens</th>\n",
       "      <th>multipleTables</th>\n",
       "      <th>year</th>\n",
       "      <th>type</th>\n",
       "      <th>details_json</th>\n",
       "      <th>page_view_data</th>\n",
       "    </tr>\n",
       "  </thead>\n",
       "  <tbody>\n",
       "    <tr>\n",
       "      <th>0</th>\n",
       "      <td>Yosemite</td>\n",
       "      <td>1/1/2016</td>\n",
       "      <td>/movies/?id=yosemite.htm</td>\n",
       "      <td>$4,500</td>\n",
       "      <td>2</td>\n",
       "      <td>-3</td>\n",
       "      <td>-4</td>\n",
       "      <td>False</td>\n",
       "      <td>2016</td>\n",
       "      <td>Test</td>\n",
       "      <td>{\"Title\":\"Yosemite\",\"Year\":\"2015\",\"Rated\":\"R\",...</td>\n",
       "      <td>2016-01-01:47,2016-01-02:53,2016-01-03:60,2016...</td>\n",
       "    </tr>\n",
       "  </tbody>\n",
       "</table>\n",
       "</div>"
      ],
      "text/plain": [
       "      title      date                      link weekendRevenue weekendScreens  \\\n",
       "0  Yosemite  1/1/2016  /movies/?id=yosemite.htm         $4,500              2   \n",
       "\n",
       "  firstRevenue firstScreens multipleTables  year  type  \\\n",
       "0           -3           -4          False  2016  Test   \n",
       "\n",
       "                                        details_json  \\\n",
       "0  {\"Title\":\"Yosemite\",\"Year\":\"2015\",\"Rated\":\"R\",...   \n",
       "\n",
       "                                      page_view_data  \n",
       "0  2016-01-01:47,2016-01-02:53,2016-01-03:60,2016...  "
      ]
     },
     "execution_count": 85,
     "metadata": {},
     "output_type": "execute_result"
    }
   ],
   "source": [
    "merged_table.head(1)"
   ]
  },
  {
   "cell_type": "code",
   "execution_count": 3,
   "metadata": {
    "collapsed": false,
    "scrolled": true
   },
   "outputs": [
    {
     "data": {
      "text/html": [
       "<div>\n",
       "<table border=\"1\" class=\"dataframe\">\n",
       "  <thead>\n",
       "    <tr style=\"text-align: right;\">\n",
       "      <th></th>\n",
       "      <th>Type</th>\n",
       "      <th>Title</th>\n",
       "      <th>Year_2007</th>\n",
       "      <th>Year_2008</th>\n",
       "      <th>Year_2009</th>\n",
       "      <th>Year_2010</th>\n",
       "      <th>Year_2011</th>\n",
       "      <th>Year_2012</th>\n",
       "      <th>Year_2013</th>\n",
       "      <th>Year_2014</th>\n",
       "      <th>...</th>\n",
       "      <th>Genre_News</th>\n",
       "      <th>Genre_Reality-TV</th>\n",
       "      <th>Genre_Romance</th>\n",
       "      <th>Genre_Sci-Fi</th>\n",
       "      <th>Genre_Short</th>\n",
       "      <th>Genre_Sport</th>\n",
       "      <th>Genre_Thriller</th>\n",
       "      <th>Genre_War</th>\n",
       "      <th>Genre_Western</th>\n",
       "      <th>Weekend_Revenue</th>\n",
       "    </tr>\n",
       "  </thead>\n",
       "  <tbody>\n",
       "    <tr>\n",
       "      <th>0</th>\n",
       "      <td>Test</td>\n",
       "      <td>The Legend of Hercules</td>\n",
       "      <td>0</td>\n",
       "      <td>0</td>\n",
       "      <td>0</td>\n",
       "      <td>0</td>\n",
       "      <td>0</td>\n",
       "      <td>0</td>\n",
       "      <td>0</td>\n",
       "      <td>1</td>\n",
       "      <td>...</td>\n",
       "      <td>0.0</td>\n",
       "      <td>0.0</td>\n",
       "      <td>0.0</td>\n",
       "      <td>0.0</td>\n",
       "      <td>0.0</td>\n",
       "      <td>0.0</td>\n",
       "      <td>0.0</td>\n",
       "      <td>0.0</td>\n",
       "      <td>0.0</td>\n",
       "      <td>9592500</td>\n",
       "    </tr>\n",
       "    <tr>\n",
       "      <th>1</th>\n",
       "      <td>Train</td>\n",
       "      <td>The Pirates Who Don't Do Anything</td>\n",
       "      <td>0</td>\n",
       "      <td>1</td>\n",
       "      <td>0</td>\n",
       "      <td>0</td>\n",
       "      <td>0</td>\n",
       "      <td>0</td>\n",
       "      <td>0</td>\n",
       "      <td>0</td>\n",
       "      <td>...</td>\n",
       "      <td>0.0</td>\n",
       "      <td>0.0</td>\n",
       "      <td>0.0</td>\n",
       "      <td>0.0</td>\n",
       "      <td>0.0</td>\n",
       "      <td>0.0</td>\n",
       "      <td>0.0</td>\n",
       "      <td>0.0</td>\n",
       "      <td>0.0</td>\n",
       "      <td>5098000</td>\n",
       "    </tr>\n",
       "  </tbody>\n",
       "</table>\n",
       "<p>2 rows × 10484 columns</p>\n",
       "</div>"
      ],
      "text/plain": [
       "    Type                              Title  Year_2007  Year_2008  Year_2009  \\\n",
       "0   Test             The Legend of Hercules          0          0          0   \n",
       "1  Train  The Pirates Who Don't Do Anything          0          1          0   \n",
       "\n",
       "   Year_2010  Year_2011  Year_2012  Year_2013  Year_2014       ...         \\\n",
       "0          0          0          0          0          1       ...          \n",
       "1          0          0          0          0          0       ...          \n",
       "\n",
       "   Genre_News  Genre_Reality-TV  Genre_Romance  Genre_Sci-Fi  Genre_Short  \\\n",
       "0         0.0               0.0            0.0           0.0          0.0   \n",
       "1         0.0               0.0            0.0           0.0          0.0   \n",
       "\n",
       "   Genre_Sport  Genre_Thriller  Genre_War  Genre_Western  Weekend_Revenue  \n",
       "0          0.0             0.0        0.0            0.0          9592500  \n",
       "1          0.0             0.0        0.0            0.0          5098000  \n",
       "\n",
       "[2 rows x 10484 columns]"
      ]
     },
     "execution_count": 3,
     "metadata": {},
     "output_type": "execute_result"
    }
   ],
   "source": [
    "file_revenue = pd.read_csv(\"processed_training_data.txt\",sep=\"\\t\")\n",
    "file_revenue.head(2)"
   ]
  },
  {
   "cell_type": "code",
   "execution_count": 42,
   "metadata": {
    "collapsed": false
   },
   "outputs": [
    {
     "data": {
      "text/plain": [
       "1     5098000\n",
       "2    21243000\n",
       "Name: Weekend_Revenue, dtype: int64"
      ]
     },
     "execution_count": 42,
     "metadata": {},
     "output_type": "execute_result"
    }
   ],
   "source": [
    "train_data=file_revenue[file_revenue['Type'] == \"Train\"]\n",
    "revenue_column= train_data['Weekend_Revenue']\n",
    "revenue_column.head(2)"
   ]
  },
  {
   "cell_type": "code",
   "execution_count": 43,
   "metadata": {
    "collapsed": false
   },
   "outputs": [
    {
     "data": {
      "text/plain": [
       "<matplotlib.axes._subplots.AxesSubplot at 0x116e3aa10>"
      ]
     },
     "execution_count": 43,
     "metadata": {},
     "output_type": "execute_result"
    },
    {
     "data": {
      "image/png": "[encoded data removed]",
      "text/plain": [
       "<matplotlib.figure.Figure at 0x116fc6ed0>"
      ]
     },
     "metadata": {},
     "output_type": "display_data"
    }
   ],
   "source": [
    "import matplotlib.pyplot as plt\n",
    "%matplotlib inline\n",
    "import numpy as np\n",
    "plt.figure()\n",
    "col2 = np.log10(revenue_column)\n",
    "col2.plot.hist(bins=50)"
   ]
  },
  {
   "cell_type": "code",
   "execution_count": 109,
   "metadata": {
    "collapsed": false
   },
   "outputs": [
    {
     "name": "stdout",
     "output_type": "stream",
     "text": [
      "0.17.1\n",
      "(1582,)\n",
      "(1582,)\n",
      "(22,)\n",
      "[False False False ..., False False False]\n",
      "Cluster centre: (40, 1)\n",
      "set([0, 1, 2, 3, 4, 5, 6, 7, 8, 9, 10, 11, 12, 13, 14])\n",
      "[  1.63476767e+08]\n"
     ]
    }
   ],
   "source": [
    "import sklearn\n",
    "from sklearn.cluster import KMeans\n",
    "num_cluster=40\n",
    "print sklearn.__version__\n",
    "print revenue_column.shape\n",
    "kmeans = KMeans(n_clusters=num_cluster).fit(revenue_column[:,np.newaxis])\n",
    "print labels.shape\n",
    "labels_flag=labels==1\n",
    "print labels[labels_flag].shape\n",
    "print labels_flag\n",
    "cluster_centers=kmeans.cluster_centers_\n",
    "print \"Cluster centre:\" ,cluster_centers.shape\n",
    "print set(labels)\n",
    "cluster_centers[labels][labels ==1]\n",
    "print cluster_centers[labels[2]]"
   ]
  },
  {
   "cell_type": "code",
   "execution_count": 103,
   "metadata": {
    "collapsed": false
   },
   "outputs": [],
   "source": [
    "def calculate_k_means_variance(df,num_clusters):\n",
    "    kmeans = KMeans(n_clusters=num_clusters).fit(df)\n",
    "    labels=kmeans.labels_\n",
    "    cluster_centers=kmeans.cluster_centers_\n",
    "    return get_sum_squared_error(df,labels,cluster_centers)\n",
    "\n",
    "def get_sum_squared_error(df,labels,cluster_centers):\n",
    "    cluster_var=0.0\n",
    "    for label in set(labels):\n",
    "        cluster_var += np.sum(np.square(df[labels==label]- cluster_centers[labels][labels==label]))\n",
    "    return cluster_var    \n",
    "\n",
    "def plot_rmse(df):\n",
    "    x_array=range(2,51)\n",
    "    y_array=[]\n",
    "    total_var=np.var(df)\n",
    "    for num_clusters in range(2,51):\n",
    "        y_array.append(calculate_k_means_variance(df,num_clusters))\n",
    "    print y_array    \n",
    "    plt.plot(x_array,y_array,'ob-', linewidth=3)"
   ]
  },
  {
   "cell_type": "code",
   "execution_count": 112,
   "metadata": {
    "collapsed": false
   },
   "outputs": [
    {
     "name": "stdout",
     "output_type": "stream",
     "text": [
      "[604.69803149850384, 287.55465067630917, 200.14355549202872, 129.94764894909656, 96.066128165206322, 74.16972020031892, 58.321522717468646, 45.281004038912251, 38.02811679642047, 31.213399051570104, 26.055501961814265, 22.632663788927225, 19.585625005946234, 16.880346990833335, 14.444085694040494, 13.121909797828806, 11.753183942858064, 10.622989151138432, 9.6611930456587949, 8.7589247821992124, 7.9537335286430206, 7.347911811130202, 6.6127288773780784, 6.1025782690201256, 5.6232713494030673, 5.2107404501831702, 4.9482702186290561, 4.5936303605290671, 4.3539030533170235, 4.1171086022061623, 3.8606004919702825, 3.5841613292810264, 3.4298847132862784, 3.2104570122299183, 2.9745716007150689, 2.827982108750585, 2.6096093514244512, 2.5656139052587621, 2.4244142786398033, 2.2697543864456731, 2.10978338623217, 2.1051433595489168, 1.9308383918628513, 1.8867265512464249, 1.8131654904751275, 1.7071822528276297, 1.6473014352591062, 1.5711504399028797, 1.4993532858342355]\n"
     ]
    },
    {
     "data": {
      "image/png": "[encoded data removed]",
      "text/plain": [
       "<matplotlib.figure.Figure at 0x118568d10>"
      ]
     },
     "metadata": {},
     "output_type": "display_data"
    }
   ],
   "source": [
    "log_revenue = np.log10(revenue_column[:,np.newaxis])\n",
    "plot_rmse(log_revenue)"
   ]
  },
  {
   "cell_type": "code",
   "execution_count": 147,
   "metadata": {
    "collapsed": true
   },
   "outputs": [],
   "source": [
    "number_of_cluster_chosen=10"
   ]
  },
  {
   "cell_type": "code",
   "execution_count": 148,
   "metadata": {
    "collapsed": false
   },
   "outputs": [
    {
     "data": {
      "text/plain": [
       "(array([ 191.,  230.,  165.,   78.,  230.,  241.,  164.,  138.,   54.,   91.]),\n",
       " array([ 0. ,  0.9,  1.8,  2.7,  3.6,  4.5,  5.4,  6.3,  7.2,  8.1,  9. ]),\n",
       " <a list of 10 Patch objects>)"
      ]
     },
     "execution_count": 148,
     "metadata": {},
     "output_type": "execute_result"
    },
    {
     "data": {
      "image/png": "[encoded data removed]",
      "text/plain": [
       "<matplotlib.figure.Figure at 0x118dcd8d0>"
      ]
     },
     "metadata": {},
     "output_type": "display_data"
    }
   ],
   "source": [
    "kmeans = KMeans(n_clusters=number_of_cluster_chosen).fit(log_revenue)\n",
    "labels=kmeans.labels_\n",
    "plt.hist(labels)"
   ]
  },
  {
   "cell_type": "code",
   "execution_count": 134,
   "metadata": {
    "collapsed": false
   },
   "outputs": [
    {
     "name": "stdout",
     "output_type": "stream",
     "text": [
      "Range for label 0 is 5100.000000 - 14400.000000\n",
      "Range for label 1 is 8699100.000000 - 20193500.000000\n",
      "Range for label 2 is 125600.000000 - 473800.000000\n",
      "Range for label 3 is 14500.000000 - 40300.000000\n",
      "Range for label 4 is 20418500.000000 - 49119000.000000\n",
      "Range for label 5 is 491300.000000 - 2313500.000000\n",
      "Range for label 6 is 1400.000000 - 5000.000000\n",
      "Range for label 7 is 40700.000000 - 124900.000000\n",
      "Range for label 8 is 100.000000 - 1300.000000\n",
      "Range for label 9 is 49463800.000000 - 189961400.000000\n",
      "Range for label 10 is 2426100.000000 - 8611600.000000\n"
     ]
    }
   ],
   "source": [
    "def print_range(label,labels,df):\n",
    "    min_value=np.min(df[labels==label])\n",
    "    max_value = np.max(df[labels==label])\n",
    "    print \"Range for label %d is %f - %f\" %(label,min_value,max_value)\n",
    "for label in set(labels):\n",
    "    print_range(label,labels,revenue_column[:,np.newaxis])"
   ]
  }
 ],
 "metadata": {
  "anaconda-cloud": {},
  "kernelspec": {
   "display_name": "Python [Root]",
   "language": "python",
   "name": "Python [Root]"
  },
  "language_info": {
   "codemirror_mode": {
    "name": "ipython",
    "version": 2
   },
   "file_extension": ".py",
   "mimetype": "text/x-python",
   "name": "python",
   "nbconvert_exporter": "python",
   "pygments_lexer": "ipython2",
   "version": "2.7.12"
  }
 },
 "nbformat": 4,
 "nbformat_minor": 0
}
